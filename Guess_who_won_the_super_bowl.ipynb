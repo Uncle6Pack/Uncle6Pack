{
  "nbformat": 4,
  "nbformat_minor": 0,
  "metadata": {
    "colab": {
      "name": "Guess who won the super bowl.ipynb",
      "provenance": []
    },
    "kernelspec": {
      "name": "python3",
      "display_name": "Python 3"
    },
    "language_info": {
      "name": "python"
    }
  },
  "cells": [
    {
      "cell_type": "markdown",
      "metadata": {
        "id": "FAWQgeJsPkbR"
      },
      "source": [
        "\"Guess the super bowl winner\"\n",
        "1. Display a welcome message\n",
        "2. Generate a random year to guess who won the superbowl\n",
        "3. Give the user 3 tries to guess the superbowl winner\n",
        "4. Give the user the option to play again"
      ]
    },
    {
      "cell_type": "markdown",
      "metadata": {
        "id": "CIFUXESlf0yH"
      },
      "source": [
        "#Guess the SB winner <code>"
      ]
    },
    {
      "cell_type": "code",
      "metadata": {
        "id": "JbFjZyzXQ8LJ"
      },
      "source": [
        "import pandas as pd\n",
        "sblist = pd.read_csv('sblist.csv')\n",
        "sblist['Winner'] = sblist['Winner'].str.strip()\n"
      ],
      "execution_count": 1,
      "outputs": []
    },
    {
      "cell_type": "code",
      "metadata": {
        "id": "ZtMb7Ji1Pmof"
      },
      "source": [
        "def superbowlguesser():\n",
        "  #Display a welcome message\n",
        "  welcome_message = \"Welcome! We'll give you a Super Bowl, you have 3 tries to guess who won.\"\n",
        "  print(welcome_message)\n",
        "  print(\"-\" * 30)\n",
        "\n",
        "#Generate SB to guess\n",
        "  winning_sb = sblist.sample()\n",
        "  guess = winning_sb['SB'].to_string(index=False)\n",
        "  team2guess = winning_sb['Winner'].to_string(index=False).strip()\n",
        "  print(f\"Who won Superbowl {guess}?\\n\")\n",
        "  \n",
        "# 3 guesses start here\n",
        "  tries_remaining = 3\n",
        "  while tries_remaining > 0:\n",
        "     print(\"-\" * 30)\n",
        "     guess_team = input(\"What is your guess?\\n\")\n",
        "     guess_team.strip()\n",
        "     if guess_team == team2guess:\n",
        "      print(f\"Congrats! {guess_team} is correct!\\n\")\n",
        "      break\n",
        "     else:\n",
        "      tries_remaining -= 1\n",
        "      print(f'\\nInncorrect. You have {tries_remaining} tries left.')\n",
        "\n",
        "     if tries_remaining == 0:\n",
        "      print(f'\\nGame over. The winning team was {team2guess}.')\n",
        "\n",
        "#Give option to play again\n",
        "  play_again = input(\"\\nWould you like to play again? (y/n)\\n\")\n",
        "  if play_again == \"y\":\n",
        "    return superbowlguesser()\n",
        "  elif play_again == 'n':\n",
        "    print(\"Thanks. Until next time...\")\n",
        "\n",
        "\n",
        "      \n",
        "    "
      ],
      "execution_count": 2,
      "outputs": []
    },
    {
      "cell_type": "markdown",
      "metadata": {
        "id": "0ZtpRZ7bf-lI"
      },
      "source": [
        "#Play# New Section"
      ]
    },
    {
      "cell_type": "code",
      "metadata": {
        "colab": {
          "base_uri": "https://localhost:8080/"
        },
        "id": "q-tt4ZGfgBbn",
        "outputId": "ff011e39-7889-4c7a-fd30-edba2578c074"
      },
      "source": [
        "superbowlguesser()"
      ],
      "execution_count": 3,
      "outputs": [
        {
          "output_type": "stream",
          "name": "stdout",
          "text": [
            "Welcome! We'll give you a Super Bowl, you have 3 tries to guess who won.\n",
            "------------------------------\n",
            "Who won Superbowl  27?\n",
            "\n",
            "------------------------------\n",
            "What is your guess?\n",
            "Green Bay Packers\n",
            "\n",
            "Inncorrect. You have 2 tries left.\n",
            "------------------------------\n",
            "What is your guess?\n",
            "Dallas Cowboys\n",
            "Congrats! Dallas Cowboys is correct!\n",
            "\n",
            "\n",
            "Would you like to play again? (y/n)\n",
            "n\n",
            "Thanks. Until next time...\n"
          ]
        }
      ]
    }
  ]
}